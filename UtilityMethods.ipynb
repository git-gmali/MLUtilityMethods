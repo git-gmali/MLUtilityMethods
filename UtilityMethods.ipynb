{
 "cells": [
  {
   "cell_type": "code",
   "execution_count": 1,
   "id": "d0e06ed2",
   "metadata": {},
   "outputs": [],
   "source": [
    "def data_summary(df):\n",
    "    print(f\"Dataset Shape: {df.shape}\")\n",
    "    summary = pd.DataFrame(df.dtypes,columns=['dtypes'])\n",
    "    summary = summary.reset_index()\n",
    "    summary['Name'] = summary['index']\n",
    "    summary = summary[['Name','dtypes']]\n",
    "    summary['Null/NaNs'] = df.isnull().sum().values\n",
    "    summary['Null/NaNs %'] = np.round((df.isnull().sum().values/df.shape[0])*100, decimals = 2)\n",
    "    summary['Unique values'] = df.nunique().values\n",
    "    summary['Unique values %'] = np.round((df.nunique().values/df.shape[0])*100, decimals = 2)\n",
    "    summary['First Value'] = df.loc[0].values\n",
    "    summary['Second Value'] = df.loc[1].values\n",
    "    summary['Third Value'] = df.loc[2].values\n",
    "    summary['Skewness'] = df.skew(axis = 1, skipna = True, numeric_only = True)\n",
    "    summary['Kurtosis'] = df.kurt(axis = 1, skipna = True, numeric_only = True)\n",
    "#    if data_dict.empty() == False:\n",
    "#        summary['Description'] = summary.Name.apply(lambda x: data_dict[x])\n",
    "    return summary"
   ]
  },
  {
   "cell_type": "code",
   "execution_count": 2,
   "id": "0596c77c",
   "metadata": {},
   "outputs": [],
   "source": [
    "def retrieve_value_counts(data):\n",
    "    value_counts_frame = None\n",
    "    for column in data.columns:\n",
    "        if data[column].dtype == object :\n",
    "            countsize = data[column].value_counts(dropna=False).size\n",
    "            value_counts = pd.DataFrame(data[column].value_counts(dropna=False).reset_index())\n",
    "            name_list = [column]*countsize\n",
    "            value_counts['Name'] = name_list\n",
    "            value_counts = value_counts.rename({'index':'Values', column:'ValueCount'}, axis=1)\n",
    "            if value_counts_frame is None:\n",
    "                value_counts_frame = pd.DataFrame(value_counts)\n",
    "            else:    \n",
    "                value_counts_frame= value_counts_frame.append(value_counts,ignore_index=True,sort=False)\n",
    "        \n",
    "            del value_counts\n",
    "    value_counts_frame = value_counts_frame[['Name', 'Values', 'ValueCount']]        \n",
    "    return(value_counts_frame)"
   ]
  },
  {
   "cell_type": "code",
   "execution_count": 3,
   "id": "84d30833",
   "metadata": {},
   "outputs": [],
   "source": [
    "def plot_boxsubplots(var, target, data, fig_size):\n",
    "    plt.figure(figsize=fig_size)\n",
    "    sns.set(font_scale=2)\n",
    "    size = len(var)\n",
    "    maxcol = 3\n",
    "    total_rows = int(size / maxcol) + (size % maxcol)\n",
    "    for i in range(0,len(var)):\n",
    "        plt.subplot(total_rows,maxcol,i+1)\n",
    "        fig = sns.boxplot(x = data[var[i]], y = data[target], data = data, order = data[var[i]].value_counts().index)\n",
    "        fig.set_xlabel(var[i], color='black',fontweight='bold')\n",
    "        fig.set_ylabel(target, color='black',fontweight='bold')\n",
    "    plt.show()"
   ]
  },
  {
   "cell_type": "code",
   "execution_count": 4,
   "id": "6ddba221",
   "metadata": {},
   "outputs": [],
   "source": [
    "def plot_distsubplots(var, data, fig_size):\n",
    "    plt.figure(figsize=fig_size)\n",
    "    sns.set(font_scale=2)\n",
    "    size = len(var)\n",
    "    maxcol = 3\n",
    "    total_rows = int(size / maxcol) + (size % maxcol)\n",
    "    for i in range(0,len(var)):\n",
    "        plt.subplot(total_rows,maxcol,i+1)\n",
    "        fig = sns.distplot(x = data[var[i]])\n",
    "        fig.set_xlabel(var[i], color='black',fontweight='bold')\n",
    "    plt.show()"
   ]
  },
  {
   "cell_type": "code",
   "execution_count": 5,
   "id": "6a2f5799",
   "metadata": {},
   "outputs": [],
   "source": [
    "def plot_countsubplots(var, data, fig_size):\n",
    "    plt.figure(figsize=fig_size)\n",
    "    sns.set(font_scale=2)\n",
    "    size = len(var)\n",
    "    maxcol = 3\n",
    "#    if()\n",
    "    total_rows = int(size / maxcol) + (size % maxcol)\n",
    "    for i in range(0,len(var)):\n",
    "        plt.subplot(total_rows,maxcol,i+1)\n",
    "        fig = sns.countplot(x = data[var[i]], data = data, order = data[var[i]].value_counts().index)\n",
    "        fig.set_xlabel(var[i], color='black',fontweight='bold')\n",
    "    plt.show()"
   ]
  },
  {
   "cell_type": "code",
   "execution_count": 6,
   "id": "bcd16ffe",
   "metadata": {},
   "outputs": [],
   "source": [
    "def plot_scattersubplots(var, target, data, fig_size):\n",
    "    plt.figure(figsize=fig_size)\n",
    "    sns.set(font_scale=2)\n",
    "    size = len(var)\n",
    "    maxcol = 3\n",
    "#    if()\n",
    "    total_rows = int(size / maxcol) + (size % maxcol)\n",
    "    for i in range(0,len(var)):\n",
    "        plt.subplot(total_rows,maxcol,i+1)\n",
    "        fig = sns.scatterplot(x = data[var[i]], data = data, y=target)\n",
    "        fig.set_xlabel(var[i], color='black',fontweight='bold')\n",
    "        fig.set_ylabel(target, color='black',fontweight='bold')\n",
    "    plt.show()"
   ]
  },
  {
   "cell_type": "code",
   "execution_count": 7,
   "id": "c33b3df9",
   "metadata": {},
   "outputs": [],
   "source": [
    "from sklearn import metrics\n",
    "def get_confusion_matrix_values(y_true, y_pred):\n",
    "    cm = metrics.confusion_matrix(y_true, y_pred)\n",
    "    print('============================================Confusion Matrix============================================')\n",
    "    print(cm)\n",
    "    print('============================================Matrix visualization============================================')\n",
    "    cmap = sns.cubehelix_palette(light=1, as_cmap=True)\n",
    "    group_names = ['True Negative', 'False Positive', 'False Negative','True Positive']\n",
    "    group_counts = ['{0:0.0f}'.format(value) for value in cm.flatten()]\n",
    "    labels = [f'{v1}\\n{v2}' for v1, v2 in zip(group_names,group_counts)]\n",
    "    labels = np.asarray(labels).reshape(2,2)\n",
    "    print(labels)\n",
    "    sns.set(font_scale=1)\n",
    "    sns.heatmap(cm, annot=labels, cmap=cmap, fmt='')\n",
    "    plt.show()\n",
    "    return(cm[0][0], cm[0][1], cm[1][0], cm[1][1])\n",
    "\n",
    "def get_performance_metric(y_true, y_pred):\n",
    "    TN, FP, FN, TP = get_confusion_matrix_values(y_true, y_pred)\n",
    "    sensitivity = TP/(TP+FN)\n",
    "    specificity = TN/(TN+FP)\n",
    "    precision = TP/(TP+FP)\n",
    "    recall = TP/(TP+FN)\n",
    "    f1_score_ = metrics.f1_score(y_true, y_pred)\n",
    "    print('============================================sensitity/Specificity============================================')\n",
    "    print('Sensitivity (True postive rate):', sensitivity)\n",
    "    print('Specificity (True negative rate):', specificity)\n",
    "    print('============================================Precision/Recall============================================')    \n",
    "    print('Precision:', precision)\n",
    "    print('Recall:', recall)\n",
    "    print('============================================F1 score============================================')\n",
    "    print('f1_score:', f1_score_)"
   ]
  },
  {
   "cell_type": "code",
   "execution_count": null,
   "id": "8d9a4ec4",
   "metadata": {},
   "outputs": [],
   "source": []
  }
 ],
 "metadata": {
  "kernelspec": {
   "display_name": "Python 3",
   "language": "python",
   "name": "python3"
  },
  "language_info": {
   "codemirror_mode": {
    "name": "ipython",
    "version": 3
   },
   "file_extension": ".py",
   "mimetype": "text/x-python",
   "name": "python",
   "nbconvert_exporter": "python",
   "pygments_lexer": "ipython3",
   "version": "3.8.8"
  }
 },
 "nbformat": 4,
 "nbformat_minor": 5
}
